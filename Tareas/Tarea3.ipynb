{
  "nbformat": 4,
  "nbformat_minor": 0,
  "metadata": {
    "colab": {
      "provenance": []
    },
    "kernelspec": {
      "name": "python3",
      "display_name": "Python 3"
    },
    "language_info": {
      "name": "python"
    }
  },
  "cells": [
    {
      "cell_type": "code",
      "execution_count": null,
      "metadata": {
        "id": "Xdsycc6hmG6S",
        "colab": {
          "base_uri": "https://localhost:8080/"
        },
        "outputId": "fa892b89-8779-44ed-8d96-112a9798f3d0"
      },
      "outputs": [
        {
          "output_type": "stream",
          "name": "stdout",
          "text": [
            "Drive already mounted at /content/drive; to attempt to forcibly remount, call drive.mount(\"/content/drive\", force_remount=True).\n",
            "Tu resultado para ric=BTC-USD es (0.139467, 0.555655, 0.250995, -0.05657)\n",
            "el resultado esperado es (0.139467, 0.555655, 0.250995, -0.05657)\n",
            "-----\n",
            "Tu resultado para ric=^IXIC es (0.058423, 0.243195, 0.240231, -0.025469)\n",
            "el resultado esperado es (0.058423, 0.243195, 0.240231, -0.025469)\n",
            "-----\n",
            "Tu resultado para ric=^MXX es (0.078243, 0.148902, 0.525463, -0.015974)\n",
            "el resultado esperado es (0.078243, 0.148902, 0.525463, -0.015974)\n"
          ]
        }
      ],
      "source": [
        "# -*- coding: utf-8 -*-\n",
        "\"\"\"\n",
        "Created on Thu Sep  7 12:17:45 2023\n",
        "\n",
        "@author: Meva\n",
        "\"\"\"\n",
        "import numpy as np\n",
        "import pandas as pd\n",
        "import matplotlib.pyplot as plt\n",
        "import importlib\n",
        "\n",
        "# importar el archivo de soporte desde Drive.\n",
        "# Hay que otorgar permisos.\n",
        "\n",
        "from google.colab import drive\n",
        "drive.mount('/content/drive')\n",
        "import sys\n",
        "sys.path.append('/content/drive/MyDrive/ArchivosCSV/ArchivosAuxiliares')\n",
        "import market_data\n",
        "\n",
        "\n",
        "# función tarea versión alumnos\n",
        "def compute_sharpe_ratio(ric):\n",
        "    decimals = 6\n",
        "    dist = market_data.distribution(ric)\n",
        "    dist.load_timeseries()\n",
        "    dist.compute_stats()\n",
        "\n",
        "    mean_annual = round(dist.mean_annual,decimals)\n",
        "    volatility_annual = round(dist.volatility_annual,decimals)\n",
        "    sharpe_ratio = round(dist.sharpe_ratio,decimals)\n",
        "    var_95 = round(dist.var_95,decimals)\n",
        "\n",
        "    return mean_annual, volatility_annual, sharpe_ratio, var_95\n",
        "\n",
        "# tests unitarios\n",
        "print('Tu resultado para ric=BTC-USD es ' + str(compute_sharpe_ratio('BTC-USD')))\n",
        "print('el resultado esperado es (0.139467, 0.555655, 0.250995, -0.05657)')\n",
        "print('-----')\n",
        "print('Tu resultado para ric=^IXIC es ' + str(compute_sharpe_ratio('^IXIC')))\n",
        "print('el resultado esperado es (0.058423, 0.243195, 0.240231, -0.025469)')\n",
        "print('-----')\n",
        "print('Tu resultado para ric=^MXX es ' + str(compute_sharpe_ratio('^MXX')))\n",
        "print('el resultado esperado es (0.078243, 0.148902, 0.525463, -0.015974)')\n"
      ]
    }
  ]
}