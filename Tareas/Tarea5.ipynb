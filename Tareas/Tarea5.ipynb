{
  "nbformat": 4,
  "nbformat_minor": 0,
  "metadata": {
    "colab": {
      "provenance": []
    },
    "kernelspec": {
      "name": "python3",
      "display_name": "Python 3"
    },
    "language_info": {
      "name": "python"
    }
  },
  "cells": [
    {
      "cell_type": "code",
      "execution_count": null,
      "metadata": {
        "colab": {
          "base_uri": "https://localhost:8080/"
        },
        "id": "lusf5i2ymPVX",
        "outputId": "555950fa-0c6e-464f-fbd3-1a4f84c41add"
      },
      "outputs": [
        {
          "output_type": "stream",
          "name": "stdout",
          "text": [
            "Mounted at /content/drive\n",
            "-----\n",
            "Parámetros fijos: factors = [^SPX,IVW,IVE,QUAL,MTUM,SIZE,USMV,XLK,XLF,XLV,XLP,XLY,XLI,XLC,XLU]\n",
            "-----\n",
            "Test 1: security=AAPL, correlation_threshold=0.80\n"
          ]
        }
      ],
      "source": [
        "# -*- coding: utf-8 -*-\n",
        "\"\"\"\n",
        "Created on Thu Oct  5 16:40:45 2023\n",
        "\n",
        "@author: Meva\n",
        "\"\"\"\n",
        "\n",
        "import numpy as np\n",
        "import pandas as pd\n",
        "import matplotlib.pyplot as plt\n",
        "import importlib\n",
        "\n",
        "# importar el archivo de soporte\n",
        "from google.colab import drive\n",
        "drive.mount('/content/drive')\n",
        "import sys\n",
        "sys.path.append('/content/drive/MyDrive/ArchivosCSV/ArchivosAuxiliares')\n",
        "import market_data\n",
        "import capm\n",
        "\n",
        "\"\"\"\n",
        "Tu gerente de portafolios está muy contenta con el script para calcular factores en Python.\n",
        "Pero ella quiere más, y te pide que le hagas una función que calcule los \"mejores factores\" para un activo dado.\n",
        "\n",
        "Inputs:\n",
        "security - el activo al cual le calcularás los factores\n",
        "factors - el universo de factores posibles\n",
        "correlation_threshold - umbral de correlación para seleccionar los \"mejores factores\"\n",
        "\n",
        "Output:\n",
        "best_factors - una lista subconjunto de factors. Los factores que aparecen deben ser tales que su correlación con respecto al activo\n",
        "dado es mayor o igual a correlation_threshold.\n",
        "\"\"\"\n",
        "\n",
        "\n",
        "# función tarea.\n",
        "def get_best_factors(security, factors, correlation_threshold):\n",
        "    df = capm.dataframe_factors(security, factors)\n",
        "    best_factors = df[df['correlation']>=correlation_threshold]['factor']\n",
        "    best_factors = list(best_factors)\n",
        "    return best_factors\n",
        "\n",
        "\n",
        "# tests unitarios\n",
        "factors = ['^SPX','IVW','IVE','QUAL','MTUM','SIZE','USMV',\\\n",
        "           'XLK','XLF','XLV','XLP','XLY','XLI','XLC','XLU']\n",
        "print('-----')\n",
        "print('Parámetros fijos: factors = [^SPX,IVW,IVE,QUAL,MTUM,SIZE,USMV,' \\\n",
        "      +'XLK,XLF,XLV,XLP,XLY,XLI,XLC,XLU]')\n",
        "print('-----')\n",
        "\n",
        "print('Test 1: security=AAPL, correlation_threshold=0.80')\n",
        "print('Tu resultado es ' + str(get_best_factors('AAPL',factors,0.80)))\n",
        "print('El resultado esperado es [XLK, IVW, ^SPX]')\n",
        "print('-----')\n",
        "\n",
        "print('Test 2: security=AAPL, correlation_threshold=0.80')\n",
        "print('Tu resultado es ' + str(get_best_factors('AAPL',factors,0.70)))\n",
        "print('El resultado esperado es [XLK, IVW, ^SPX, QUAL, XLY, XLC, SIZE]')\n",
        "print('-----')\n",
        "\n",
        "print('Test 3: security=BTC-USD, correlation_threshold=0.40')\n",
        "print('Tu resultado es ' + str(get_best_factors('BTC-USD',factors,0.40)))\n",
        "print('El resultado esperado es [IVW, SIZE, ^SPX]')\n",
        "print('-----')\n",
        "\n",
        "print('Test 4: security=BTC-USD, correlation_threshold=0.39')\n",
        "print('Tu resultado es ' + str(get_best_factors('BTC-USD',factors,0.39)))\n",
        "print('El resultado esperado es [IVW, SIZE, ^SPX, XLY, QUAL, XLK]')\n",
        "print('-----')\n",
        "\n",
        "print('Test 5: security=MXNUSD=X, correlation_threshold=0.10')\n",
        "print('Tu resultado es ' + str(get_best_factors('MXNUSD=X',factors,0.10)))\n",
        "print('El resultado esperado es []')\n",
        "print('-----')"
      ]
    }
  ]
}