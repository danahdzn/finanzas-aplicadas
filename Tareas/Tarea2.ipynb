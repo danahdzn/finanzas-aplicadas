{
  "nbformat": 4,
  "nbformat_minor": 0,
  "metadata": {
    "colab": {
      "provenance": []
    },
    "kernelspec": {
      "name": "python3",
      "display_name": "Python 3"
    },
    "language_info": {
      "name": "python"
    }
  },
  "cells": [
    {
      "cell_type": "code",
      "execution_count": null,
      "metadata": {
        "id": "xmiETqH9O9Mj",
        "outputId": "605b2072-68a4-4135-cacc-b29fd67b1578",
        "colab": {
          "base_uri": "https://localhost:8080/"
        }
      },
      "outputs": [
        {
          "output_type": "stream",
          "name": "stdout",
          "text": [
            "Mounted at /content/drive\n",
            "Tu resultado para ric=BTC-USD es (0.000553, 0.034985)\n",
            "el resultado esperado es (0.000553, 0.034985)\n",
            "-----\n",
            "Tu resultado para ric=^IXIC es (0.000232, 0.015308)\n",
            "el resultado esperado es (0.000232, 0.015308)\n",
            "-----\n",
            "Tu resultado para ric=^MXX es (0.00031, 0.009373)\n",
            "el resultado esperado es (0.00031, 0.009373)\n"
          ]
        }
      ],
      "source": [
        "from numpy.lib.function_base import median\n",
        "# -*- coding: utf-8 -*-\n",
        "\"\"\"\n",
        "Created on Thu Aug 31 13:03:14 2023\n",
        "\n",
        "@author: Meva\n",
        "\"\"\"\n",
        "\n",
        "import numpy as np\n",
        "import pandas as pd\n",
        "import matplotlib.pyplot as plt\n",
        "import importlib\n",
        "\n",
        "# Accedemos a los archivos de nuestro drive.\n",
        "# Hay que otorgar permisos.\n",
        "from google.colab import drive\n",
        "drive.mount('/content/drive')\n",
        "\n",
        "# función pre-hecha, que llamarán los alumnos\n",
        "def load_timeseries(ric):\n",
        "    directory = '/content/drive/MyDrive/ArchivosCSV/' # hardcoded\n",
        "    path = directory + ric + '.csv'\n",
        "    raw_data = pd.read_csv(path)\n",
        "    t = pd.DataFrame()\n",
        "    t['date'] = pd.to_datetime(raw_data['Date'], dayfirst=True)\n",
        "    t['close'] = raw_data['Close']\n",
        "    t.sort_values(by='date', ascending=True)\n",
        "    t['close_previous'] = t['close'].shift(1)\n",
        "    t['return_close'] = t['close']/t['close_previous'] - 1\n",
        "    t = t.dropna()\n",
        "    t = t.reset_index(drop=True)\n",
        "    return t\n",
        "\n",
        "\n",
        "# función tarea\n",
        "def compute_average_return_and_volatility(ric):\n",
        "    decimals = 6\n",
        "    close = load_timeseries(ric)\n",
        "    returns = close['return_close']\n",
        "    average_return = round(np.mean(returns),decimals)\n",
        "    volatility = round(np.std(returns),decimals)\n",
        "    return average_return, volatility\n",
        "\n",
        "\n",
        "# inputs\n",
        "ric = 'BTC-USD'\n",
        "\n",
        "\n",
        "# outputs\n",
        "average_return, volatility = compute_average_return_and_volatility(ric)\n",
        "\n",
        "\n",
        "# test unitario\n",
        "print('Tu resultado para ric=BTC-USD es ' + str(compute_average_return_and_volatility('BTC-USD')))\n",
        "print('el resultado esperado es (0.000553, 0.034985)')\n",
        "print('-----')\n",
        "print('Tu resultado para ric=^IXIC es ' + str(compute_average_return_and_volatility('^IXIC')))\n",
        "print('el resultado esperado es (0.000232, 0.015308)')\n",
        "print('-----')\n",
        "print('Tu resultado para ric=^MXX es ' + str(compute_average_return_and_volatility('^MXX')))\n",
        "print('el resultado esperado es (0.00031, 0.009373)')"
      ]
    }
  ]
}