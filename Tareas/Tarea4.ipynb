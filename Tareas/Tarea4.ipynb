{
  "nbformat": 4,
  "nbformat_minor": 0,
  "metadata": {
    "colab": {
      "provenance": []
    },
    "kernelspec": {
      "name": "python3",
      "display_name": "Python 3"
    },
    "language_info": {
      "name": "python"
    }
  },
  "cells": [
    {
      "cell_type": "code",
      "execution_count": null,
      "metadata": {
        "colab": {
          "base_uri": "https://localhost:8080/"
        },
        "id": "JUsLdWWbUHJi",
        "outputId": "0c778de0-ea38-4c1d-b734-630e21910a32"
      },
      "outputs": [
        {
          "output_type": "stream",
          "name": "stdout",
          "text": [
            "Mounted at /content/drive\n",
            "-----\n",
            "Parámetros fijos: position_delta_usd=10 y benchmark=^SPX.\n",
            "-----\n",
            "Test 1: position_security=BTC-USD, hedge_securities=[ETH-USD,SOL-USD], regularisation=0.0\n",
            "Tu resultado es (13.85, -10.0, -13.85, 25.868)\n",
            "El resultado esperado es (13.85, -10.0, -13.85, 25.868)\n",
            "-----\n",
            "Test 2: position_security=BTC-USD, hedge_securities=[ETH-USD,SOL-USD], regularisation=0.01\n",
            "Tu resultado es (13.85, -9.206, -14.227, 17.421)\n",
            "El resultado esperado es (13.85, -9.206, -14.227, 17.421)\n",
            "-----\n",
            "Test 3: position_security=BTC-USD, hedge_securities=[ETH-USD,SOL-USD], regularisation=0.1\n",
            "Tu resultado es (13.85, -7.889, -14.716, 7.889)\n",
            "El resultado esperado es (13.85, -7.889, -14.716, 7.889)\n",
            "-----\n",
            "Test 4: position_security=BTC-USD, hedge_securities=[SPY,XLK,XLF], regularisation=0.0\n",
            "Tu resultado es (13.85, -10.0, -13.85, 14.702)\n",
            "El resultado esperado es (13.85, -10.0, -13.85, 14.702)\n",
            "-----\n",
            "Test 5: position_security=BTC-USD, hedge_securities=[SPY,XLK,XLF], regularisation=0.1\n",
            "Tu resultado es (13.85, -10.887, -12.693, 10.887)\n",
            "El resultado esperado es (13.85, -10.887, -12.693, 10.887)\n",
            "-----\n"
          ]
        }
      ],
      "source": [
        "# -*- coding: utf-8 -*-\n",
        "\"\"\"\n",
        "Created on Thu Sep  7 12:17:45 2023\n",
        "\n",
        "@author: Meva\n",
        "\"\"\"\n",
        "\n",
        "\n",
        "import numpy as np\n",
        "import pandas as pd\n",
        "import matplotlib.pyplot as plt\n",
        "import importlib\n",
        "\n",
        "# importar el archivo de soporte\n",
        "from google.colab import drive\n",
        "drive.mount('/content/drive')\n",
        "import sys\n",
        "sys.path.append('/content/drive/MyDrive/ArchivosCSV/ArchivosAuxiliares')\n",
        "import market_data\n",
        "import capm\n",
        "\n",
        "\n",
        "# función tarea versión alumnos\n",
        "def compute_hedge_statistics(position_security, position_delta_usd, benchmark, hedge_securities, regularisation):\n",
        "    decimals = 3\n",
        "    hedger = capm.hedger(position_security, position_delta_usd, benchmark, hedge_securities)\n",
        "    hedger.compute_betas()\n",
        "    hedger.compute_hedge_weights(regularisation)\n",
        "\n",
        "    position_beta_usd = np.round(hedger.position_beta_usd,decimals)\n",
        "    hedge_delta_usd = np.round(hedger.hedge_delta_usd,decimals)\n",
        "    hedge_beta_usd = np.round(hedger.hedge_beta_usd,decimals)\n",
        "    hedge_cost_usd = np.round(hedger.hedge_cost_usd,decimals)\n",
        "\n",
        "    return position_beta_usd, hedge_delta_usd, hedge_beta_usd, hedge_cost_usd\n",
        "\n",
        "\n",
        "\n",
        "# tests unitarios\n",
        "print('-----')\n",
        "print('Parámetros fijos: position_delta_usd=10 y benchmark=''^SPX''.')\n",
        "print('-----')\n",
        "print('Test 1: position_security=BTC-USD, hedge_securities=[ETH-USD,SOL-USD], regularisation=0.0')\n",
        "print('Tu resultado es ' + str(compute_hedge_statistics('BTC-USD',10,'^SPX',['ETH-USD','SOL-USD'],0.0)))\n",
        "print('El resultado esperado es (13.85, -10.0, -13.85, 25.868)')\n",
        "print('-----')\n",
        "\n",
        "print('Test 2: position_security=BTC-USD, hedge_securities=[ETH-USD,SOL-USD], regularisation=0.01')\n",
        "print('Tu resultado es ' + str(compute_hedge_statistics('BTC-USD',10,'^SPX',['ETH-USD','SOL-USD'],0.01)))\n",
        "print('El resultado esperado es (13.85, -9.206, -14.227, 17.421)')\n",
        "print('-----')\n",
        "\n",
        "print('Test 3: position_security=BTC-USD, hedge_securities=[ETH-USD,SOL-USD], regularisation=0.1')\n",
        "print('Tu resultado es ' + str(compute_hedge_statistics('BTC-USD',10,'^SPX',['ETH-USD','SOL-USD'],0.1)))\n",
        "print('El resultado esperado es (13.85, -7.889, -14.716, 7.889)')\n",
        "print('-----')\n",
        "\n",
        "print('Test 4: position_security=BTC-USD, hedge_securities=[SPY,XLK,XLF], regularisation=0.0')\n",
        "print('Tu resultado es ' + str(compute_hedge_statistics('BTC-USD',10,'^SPX',['SPY','XLK','XLF'],0.0)))\n",
        "print('El resultado esperado es (13.85, -10.0, -13.85, 14.702)')\n",
        "print('-----')\n",
        "\n",
        "print('Test 5: position_security=BTC-USD, hedge_securities=[SPY,XLK,XLF], regularisation=0.1')\n",
        "print('Tu resultado es ' + str(compute_hedge_statistics('BTC-USD',10,'^SPX',['SPY','XLK','XLF'],0.1)))\n",
        "print('El resultado esperado es (13.85, -10.887, -12.693, 10.887)')\n",
        "print('-----')"
      ]
    }
  ]
}